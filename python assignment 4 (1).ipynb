{
 "cells": [
  {
   "cell_type": "markdown",
   "metadata": {},
   "source": [
    "# Python assignment 4"
   ]
  },
  {
   "cell_type": "markdown",
   "metadata": {},
   "source": [
    "# Question 1.1"
   ]
  },
  {
   "cell_type": "code",
   "execution_count": 5,
   "metadata": {},
   "outputs": [],
   "source": [
    "class Tri:\n",
    "    def __init__(self):\n",
    "        self.a=float(input(\"enter side a:\"))\n",
    "        self.b=float(input(\"enter side b:\"))\n",
    "        self.c=float(input(\"enter side c:\"))\n",
    "        \n"
   ]
  },
  {
   "cell_type": "code",
   "execution_count": 9,
   "metadata": {},
   "outputs": [],
   "source": [
    "class Area(Tri):\n",
    "    def area(self):\n",
    "        s=(self.a+self.b+self.c)/2\n",
    "        ar=(s*(s-self.a)*(s-self.b)*(s-self.c))**(0.5)\n",
    "        print(f\"area of triamgle is:{ar:.3f}cm\\u00b2)\")\n"
   ]
  },
  {
   "cell_type": "code",
   "execution_count": 12,
   "metadata": {},
   "outputs": [
    {
     "name": "stdout",
     "output_type": "stream",
     "text": [
      "enter side a:5\n",
      "enter side b:6\n",
      "enter side c:7\n",
      "area of triamgle is:14.697cm²)\n"
     ]
    }
   ],
   "source": [
    "        \n",
    "d=Area()\n",
    "d.area()\n",
    "    "
   ]
  },
  {
   "cell_type": "markdown",
   "metadata": {},
   "source": [
    "# Questin 1.2"
   ]
  },
  {
   "cell_type": "code",
   "execution_count": 13,
   "metadata": {},
   "outputs": [
    {
     "name": "stdout",
     "output_type": "stream",
     "text": [
      "longest words are:['sameer', 'python', 'data science']\n"
     ]
    }
   ],
   "source": [
    "def filter_long_words(words,n):\n",
    "    l=[]\n",
    "    for i in words:\n",
    "        if len(i)>n:\n",
    "            l.append(i)\n",
    "    print(f\"longest words are:{l}\")\n",
    "    \n",
    "words=[\"sameer\",\"python\",\"cat\",\"data\",\"data science\"]\n",
    "filter_long_words(words,5)\n",
    "    "
   ]
  },
  {
   "cell_type": "markdown",
   "metadata": {},
   "source": [
    "# Question 2.1"
   ]
  },
  {
   "cell_type": "code",
   "execution_count": 14,
   "metadata": {},
   "outputs": [
    {
     "name": "stdout",
     "output_type": "stream",
     "text": [
      "length of corrosponding words are:[6, 6, 3, 4, 12]\n"
     ]
    }
   ],
   "source": [
    "def wordtointeger(words):\n",
    "    l=[]\n",
    "    for i in words:\n",
    "        a=len(i)\n",
    "        l.append(a)\n",
    "        \n",
    "    print(f\"length of corrosponding words are:{l}\")\n",
    "    \n",
    "lst=[\"sameer\",\"python\",\"cat\",\"data\",\"data science\"]\n",
    "wordtointeger(lst)"
   ]
  },
  {
   "cell_type": "markdown",
   "metadata": {},
   "source": [
    "# Question 2.2 "
   ]
  },
  {
   "cell_type": "code",
   "execution_count": 17,
   "metadata": {},
   "outputs": [
    {
     "name": "stdout",
     "output_type": "stream",
     "text": [
      "enter a character   c\n"
     ]
    },
    {
     "data": {
      "text/plain": [
       "False"
      ]
     },
     "execution_count": 17,
     "metadata": {},
     "output_type": "execute_result"
    }
   ],
   "source": [
    "def vowel_check(char):\n",
    "    if (char==\"a\" or char==\"e\" or char==\"i\" or char==\"o\" or char==\"u\"):\n",
    "        return True\n",
    "    \n",
    "    else:\n",
    "        return False\n",
    "    \n",
    "vowel_check(input(\"enter a character   \"))"
   ]
  },
  {
   "cell_type": "code",
   "execution_count": null,
   "metadata": {},
   "outputs": [],
   "source": []
  }
 ],
 "metadata": {
  "kernelspec": {
   "display_name": "Python 3",
   "language": "python",
   "name": "python3"
  },
  "language_info": {
   "codemirror_mode": {
    "name": "ipython",
    "version": 3
   },
   "file_extension": ".py",
   "mimetype": "text/x-python",
   "name": "python",
   "nbconvert_exporter": "python",
   "pygments_lexer": "ipython3",
   "version": "3.7.3"
  }
 },
 "nbformat": 4,
 "nbformat_minor": 2
}
